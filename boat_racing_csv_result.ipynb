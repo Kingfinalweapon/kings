{
  "nbformat": 4,
  "nbformat_minor": 0,
  "metadata": {
    "colab": {
      "provenance": [],
      "authorship_tag": "ABX9TyPS1DHr+tCAtCDWm21PULy7",
      "include_colab_link": true
    },
    "kernelspec": {
      "name": "python3",
      "display_name": "Python 3"
    },
    "language_info": {
      "name": "python"
    }
  },
  "cells": [
    {
      "cell_type": "markdown",
      "metadata": {
        "id": "view-in-github",
        "colab_type": "text"
      },
      "source": [
        "<a href=\"https://colab.research.google.com/github/Kingfinalweapon/kings/blob/master/boat_racing_csv_result.ipynb\" target=\"_parent\"><img src=\"https://colab.research.google.com/assets/colab-badge.svg\" alt=\"Open In Colab\"/></a>"
      ]
    },
    {
      "cell_type": "code",
      "execution_count": null,
      "metadata": {
        "colab": {
          "base_uri": "https://localhost:8080/"
        },
        "id": "LQnKBnGR_4Gg",
        "outputId": "1b70bb2f-e9b3-47ff-ec3a-ab3c2093709e"
      },
      "outputs": [
        {
          "output_type": "stream",
          "name": "stdout",
          "text": [
            "作業を開始します\n",
            "sample_data/csv_r/results_YYYYMMDD-YYYYMMDD.csv を作成しました\n",
            "作業を終了しました\n"
          ]
        }
      ],
      "source": [
        "# 解凍したテキストファイルの格納先を指定\n",
        "TEXT_FILE_DIR = \"sample_data/txt_k/\"\n",
        "\n",
        "# CSVファイルの保存先を指定\n",
        "CSV_FILE_DIR = \"sample_data/csv_r/\"\n",
        "\n",
        "# CSVファイルの名前を指定　※YYYYMMDDには対象期間を入力\n",
        "CSV_FILE_NAME = \"results_YYYYMMDD-YYYYMMDD.csv\"\n",
        "\n",
        "# CSVファイルのヘッダーを指定\n",
        "CSV_FILE_HEADER = \"レースコード,タイトル,日次,レース日,レース場,レース回,\\\n",
        "3連単_組番,3連単_払戻金,3連複_組番,3連複_払戻金,2連単_組番,2連単_払戻金,2連複_組番,2連複_払戻金\\n\"\n",
        "\n",
        "# OSの機能を利用するパッケージ os をインポート\n",
        "import os\n",
        "\n",
        "# 正規表現をサポートするモジュール re をインポート\n",
        "import re\n",
        "\n",
        "\n",
        "# テキストファイルからデータを抽出し、CSVファイルに書き込む関数 get_data を定義\n",
        "def get_data(text_file):\n",
        "    # CSVファイルを追記モードで開く\n",
        "    csv_file = open(CSV_FILE_DIR + CSV_FILE_NAME, \"a\", encoding=\"shift_jis\")\n",
        "\n",
        "    # テキストファイルから中身を順に取り出す\n",
        "    for contents in text_file:\n",
        "\n",
        "        # キーワード「競争成績」を見つけたら(rは正規表現でraw文字列を指定するおまじない)\n",
        "        if re.search(r\"競走成績\", contents):\n",
        "            # 1行スキップ\n",
        "            text_file.readline()\n",
        "\n",
        "            # タイトルを格納\n",
        "            line = text_file.readline()\n",
        "            title = line[:-1].strip()\n",
        "\n",
        "            # 1行スキップ\n",
        "            text_file.readline()\n",
        "\n",
        "            # 日次・レース日・レース場を格納\n",
        "            line = text_file.readline()\n",
        "            day = line[3:7].replace(' ', '')\n",
        "            date = line[17:27].replace(' ', '0')\n",
        "            stadium = line[62:65].replace('　', '')\n",
        "\n",
        "        # キーワード「払戻金」を見つけたら\n",
        "        if re.search(r\"払戻金\", contents):\n",
        "\n",
        "            # レース結果を読み込む行(開始行)を格納\n",
        "            line = text_file.readline()\n",
        "\n",
        "            # 空行まで処理を繰り返す = 1〜12レースまでの結果を取得\n",
        "            while line != \"\\n\":\n",
        "                # レース結果を格納\n",
        "                results = line[10:13].replace(' ', '0') + \",\" \\\n",
        "                          + line[15:20] + \",\" + line[21:28].strip() + \",\" \\\n",
        "                          + line[32:37] + \",\" + line[38:45].strip() + \",\" \\\n",
        "                          + line[49:52] + \",\" + line[53:60].strip() + \",\" \\\n",
        "                          + line[64:67] + \",\" + line[68:75].strip()\n",
        "\n",
        "                # レースコードを生成\n",
        "                dict_stadium = {'桐生': 'KRY', '戸田': 'TDA', '江戸川': 'EDG', '平和島': 'HWJ',\n",
        "                                '多摩川': 'TMG', '浜名湖': 'HMN', '蒲郡': 'GMG', '常滑': 'TKN',\n",
        "                                '津': 'TSU', '三国': 'MKN', '琵琶湖': 'BWK', '住之江': 'SME',\n",
        "                                '尼崎': 'AMG', '鳴門': 'NRT', '丸亀': 'MRG', '児島': 'KJM',\n",
        "                                '宮島': 'MYJ', '徳山': 'TKY', '下関': 'SMS', '若松': 'WKM',\n",
        "                                '芦屋': 'ASY', '福岡': 'FKO', '唐津': 'KRT', '大村': 'OMR'\n",
        "                                }\n",
        "\n",
        "                race_round = line[10:12].replace(' ','0')\n",
        "                race_code = date[0:4] + date[5:7] + date[8:10] + dict_stadium[stadium] + race_round[0:2]\n",
        "\n",
        "                # 抽出したデータをCSVファイルに書き込む\n",
        "                csv_file.write(race_code + \",\" + title + \",\" + day + \",\" + date + \",\" + stadium + \",\" + results + \"\\n\")\n",
        "\n",
        "                # 次の行を読み込む\n",
        "                line = text_file.readline()\n",
        "\n",
        "    # CSVファイルを閉じる\n",
        "    csv_file.close()\n",
        "\n",
        "\n",
        "# 開始合図\n",
        "print(\"作業を開始します\")\n",
        "\n",
        "# CSVファイルを格納するフォルダを作成\n",
        "os.makedirs(CSV_FILE_DIR, exist_ok=True)\n",
        "\n",
        "# CSVファイルを作成しヘッダ情報を書き込む\n",
        "csv_file = open(CSV_FILE_DIR + CSV_FILE_NAME, \"w\", encoding=\"shift_jis\")\n",
        "csv_file.write(CSV_FILE_HEADER)\n",
        "csv_file.close()\n",
        "\n",
        "# テキストファイルのリストを取得\n",
        "text_file_list = os.listdir(TEXT_FILE_DIR)\n",
        "\n",
        "# リストからファイル名を順に取り出す\n",
        "for text_file_name in text_file_list:\n",
        "\n",
        "    # 拡張子が TXT のファイルに対してのみ実行\n",
        "    if re.search(\".TXT\", text_file_name):\n",
        "        # テキストファイルを開く\n",
        "        text_file = open(TEXT_FILE_DIR + text_file_name, \"r\", encoding=\"shift_jis\")\n",
        "\n",
        "        # 関数 get_data にファイル(オブジェクト)を渡す\n",
        "        get_data(text_file)\n",
        "\n",
        "        # テキストファイルを閉じる\n",
        "        text_file.close()\n",
        "\n",
        "print(CSV_FILE_DIR + CSV_FILE_NAME + \" を作成しました\")\n",
        "\n",
        "# 終了合図\n",
        "print(\"作業を終了しました\")"
      ]
    }
  ]
}